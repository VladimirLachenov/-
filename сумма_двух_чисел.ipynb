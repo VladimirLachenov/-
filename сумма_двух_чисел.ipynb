{
  "nbformat": 4,
  "nbformat_minor": 0,
  "metadata": {
    "colab": {
      "name": "сумма двух чисел.ipynb",
      "provenance": [],
      "toc_visible": true,
      "authorship_tag": "ABX9TyOLaLKs7vsDZV2GX71Vq1sP",
      "include_colab_link": true
    },
    "kernelspec": {
      "name": "python3",
      "display_name": "Python 3"
    },
    "language_info": {
      "name": "python"
    }
  },
  "cells": [
    {
      "cell_type": "markdown",
      "metadata": {
        "id": "view-in-github",
        "colab_type": "text"
      },
      "source": [
        "<a href=\"https://colab.research.google.com/github/VladimirLachenov/-/blob/master/%D1%81%D1%83%D0%BC%D0%BC%D0%B0_%D0%B4%D0%B2%D1%83%D1%85_%D1%87%D0%B8%D1%81%D0%B5%D0%BB.ipynb\" target=\"_parent\"><img src=\"https://colab.research.google.com/assets/colab-badge.svg\" alt=\"Open In Colab\"/></a>"
      ]
    },
    {
      "cell_type": "markdown",
      "source": [
        "пример программы суммирования 2 чисел"
      ],
      "metadata": {
        "id": "tKtKvygaq10W"
      }
    },
    {
      "cell_type": "code",
      "execution_count": null,
      "metadata": {
        "id": "cYjjHwEij8r5",
        "outputId": "0548413a-3548-4ff8-9892-1123e1ae1444",
        "colab": {
          "base_uri": "https://localhost:8080/"
        }
      },
      "outputs": [
        {
          "output_type": "stream",
          "name": "stdout",
          "text": [
            "введите 1 число\n",
            "1\n",
            "введите 2 число\n",
            "2\n",
            "Сумма чисел равна\n",
            "3\n"
          ]
        }
      ],
      "source": [
        "print('введите 1 число')\n",
        "a = input() \n",
        "print('введите 2 число')\n",
        "b = input() \n",
        "c = int(a) + int(b)\n",
        "print('Сумма чисел равна')\n",
        "print(c)\n"
      ]
    }
  ]
}